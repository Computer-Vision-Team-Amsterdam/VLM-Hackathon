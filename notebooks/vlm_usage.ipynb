{
 "cells": [
  {
   "cell_type": "markdown",
   "id": "0",
   "metadata": {},
   "source": [
    "# Use the VLM endpoint"
   ]
  },
  {
   "cell_type": "code",
   "execution_count": 5,
   "id": "1",
   "metadata": {},
   "outputs": [],
   "source": [
    "import base64\n",
    "import os\n",
    "\n",
    "from azure.identity import DefaultAzureCredential, get_bearer_token_provider\n",
    "from openai import AzureOpenAI\n",
    "\n",
    "\n",
    "# Function to encode an image\n",
    "def encode_image(image_path):\n",
    "    with open(image_path, \"rb\") as image_file:\n",
    "        return base64.b64encode(image_file.read()).decode(\"utf-8\")\n",
    "\n",
    "\n",
    "endpoint = \"https://oai-aip-cv-ont-sdc.openai.azure.com/\"\n",
    "model_name = \"gpt-4o-mini\"\n",
    "deployment = \"gpt-4o-mini\"\n",
    "token_provider = get_bearer_token_provider(DefaultAzureCredential(), \"https://cognitiveservices.azure.com/.default\")\n",
    "api_version = \"2024-12-01-preview\"\n",
    "\n",
    "client = AzureOpenAI(\n",
    "    api_version=api_version,\n",
    "    azure_endpoint=endpoint,\n",
    "    azure_ad_token_provider=token_provider,\n",
    ")"
   ]
  },
  {
   "cell_type": "markdown",
   "id": "2",
   "metadata": {},
   "source": [
    "## Ask question with a photo as context"
   ]
  },
  {
   "cell_type": "code",
   "execution_count": 13,
   "id": "3",
   "metadata": {},
   "outputs": [
    {
     "name": "stdout",
     "output_type": "stream",
     "text": [
      "You are a sidewalk inspector for the municipality. Your task is to check whether there is any damage on the sidewalk. If so, choose one or multiple categories of damage from the following list:  ['Local subsidence', 'Edge damage', 'Tree root damage', 'Transverse crack', 'Broken elements', 'Unfilled borehole', 'Hole', 'Local raise', 'Longitudinal crack', 'Asphalt trench elements (HOOR)', 'Square inspection chamber connection', 'Surface connection', 'Fraying', 'Edge restraint', 'Loose elements', 'Failed area', 'Joint width of elements', 'Missing elements']. Please answer with only the categories in the list. If you don't find any defects, please say so. In any case, provide an explanation.\n",
      "Based on the image provided, there appears to be several types of sidewalk damage. The relevant categories of damage are:\n",
      "\n",
      "- **Local subsidence**: The unevenness between the two surfaces suggests that part of the sidewalk has sunk in relation to the adjacent area.\n",
      "- **Edge damage**: The transition between the sidewalk and the curb shows signs of wear and damage at the edges.\n",
      "- **Surface connection**: The area where the two different materials meet indicates there may be inadequate joining or connection between the surfaces.\n",
      "\n",
      "These observations indicate that there are multiple issues needing attention on this sidewalk.\n"
     ]
    }
   ],
   "source": [
    "images_folder = \"local_data/2025_Centrum/images/\"  # See other notebook on how to download an image from blob store\n",
    "image_name = \"da812701-a1e3-4448-b5b1-0990c27441c0.jpeg\"\n",
    "\n",
    "# Getting the Base64 string\n",
    "base64_image = encode_image(os.path.join(images_folder, image_name))\n",
    "\n",
    "prompt = \"You are a sidewalk inspector for the municipality. Your task is \" \\\n",
    "\"to check whether there is any damage on the sidewalk. \" \\\n",
    "\"If so, choose one or multiple categories of damage from the following list: \"\n",
    "\n",
    "list = [\n",
    "  \"Local subsidence\",\n",
    "  \"Edge damage\",\n",
    "  \"Tree root damage\",\n",
    "  \"Transverse crack\",\n",
    "  \"Broken elements\",\n",
    "  \"Unfilled borehole\",\n",
    "  \"Hole\",\n",
    "  \"Local raise\",\n",
    "  \"Longitudinal crack\",\n",
    "  \"Asphalt trench elements (HOOR)\",\n",
    "  \"Square inspection chamber connection\",\n",
    "  \"Surface connection\",\n",
    "  \"Fraying\",\n",
    "  \"Edge restraint\",\n",
    "  \"Loose elements\",\n",
    "  \"Failed area\",\n",
    "  \"Joint width of elements\",\n",
    "  \"Missing elements\"\n",
    "]\n",
    "\n",
    "content = f\"{prompt} {list}. Please answer with only the categories in the list. If you don't find any defects, please say so. In any case, provide an explanation.\"\n",
    "\n",
    "# Query endpoint\n",
    "response = client.chat.completions.create(\n",
    "    messages=[\n",
    "        {\n",
    "            \"role\": \"system\",\n",
    "            \"content\": content,\n",
    "        },\n",
    "        {\n",
    "            \"role\": \"user\",\n",
    "            \"content\": [\n",
    "                { \"type\": \"text\", \"text\": \"Find if there is any damage in this image.\" },\n",
    "                {\n",
    "                    \"type\": \"image_url\",\n",
    "                    \"image_url\": {\"url\": f\"data:image/jpeg;base64,{base64_image}\"},\n",
    "                    \"detail\": \"low\", # reduces token usage\n",
    "                },\n",
    "            ],\n",
    "        }\n",
    "    ],\n",
    "    max_tokens=4096,\n",
    "    temperature=1.0,\n",
    "    top_p=1.0,\n",
    "    model=deployment\n",
    ")\n",
    "\n",
    "print(response.choices[0].message.content)"
   ]
  },
  {
   "cell_type": "code",
   "execution_count": null,
   "id": "44559135",
   "metadata": {},
   "outputs": [],
   "source": []
  }
 ],
 "metadata": {
  "kernelspec": {
   "display_name": "VLM-Hackathon",
   "language": "python",
   "name": "python3"
  },
  "language_info": {
   "codemirror_mode": {
    "name": "ipython",
    "version": 3
   },
   "file_extension": ".py",
   "mimetype": "text/x-python",
   "name": "python",
   "nbconvert_exporter": "python",
   "pygments_lexer": "ipython3",
   "version": "3.11.11"
  }
 },
 "nbformat": 4,
 "nbformat_minor": 5
}

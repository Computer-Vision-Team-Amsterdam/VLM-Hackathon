{
 "cells": [
  {
   "cell_type": "markdown",
   "id": "0",
   "metadata": {},
   "source": [
    "# Exploring the V&OR maintenance data\n",
    "\n",
    "Data is located in the blobstore `experiments` under `hackathon_vlm/onderhoud/`."
   ]
  },
  {
   "cell_type": "code",
   "execution_count": null,
   "id": "1",
   "metadata": {},
   "outputs": [],
   "source": [
    "import cv2\n",
    "import geopandas as gpd\n",
    "import numpy as np\n",
    "import os\n",
    "\n",
    "from azure.identity import  DefaultAzureCredential\n",
    "from azure.storage.blob import  BlobServiceClient\n",
    "\n",
    "\n",
    "def blob_to_bytes(blobname: str):\n",
    "    blob_client = container_client.get_blob_client(blobname)\n",
    "    return blob_client.download_blob().readall()\n",
    "\n",
    "def bytes_to_cv2(image_bytes):\n",
    "    '''Convert image bytes to CV2 image\n",
    "        Args:\n",
    "            image_bytes: image bytes\n",
    "        Returns:\n",
    "            CV2 image\n",
    "    '''\n",
    "    image_array = np.frombuffer(image_bytes, dtype=\"uint8\")\n",
    "    image = cv2.imdecode(image_array, cv2.IMREAD_UNCHANGED)\n",
    "    return image\n",
    "\n",
    "def imshow(img):\n",
    "    import IPython\n",
    "    _,ret = cv2.imencode('.jpg', img) \n",
    "    i = IPython.display.Image(data=ret)\n",
    "    IPython.display.display(i)\n",
    "\n",
    "\n",
    "ACCOUNT_URL = \"https://cvodataweupgwapeg4pyiw5e.blob.core.windows.net\"\n",
    "CONTAINER_NAME = \"experiments\"\n",
    "\n",
    "\n",
    "credential = DefaultAzureCredential()\n",
    "\n",
    "blob_service_client = BlobServiceClient(account_url=ACCOUNT_URL, credential=credential)\n",
    "container_client = blob_service_client.get_container_client(CONTAINER_NAME)"
   ]
  },
  {
   "cell_type": "markdown",
   "id": "2",
   "metadata": {},
   "source": [
    "## Example: load metadata"
   ]
  },
  {
   "cell_type": "code",
   "execution_count": null,
   "id": "3",
   "metadata": {},
   "outputs": [],
   "source": [
    "# The dataset contaisn of multiple files, we need to download them to explore.\n",
    "dataset_path_prefix = \"hackathon_vlm/onderhoud/2025_Centrum/KLEIN_ONDERHOUD_SDCENTRUM 20250328\"\n",
    "\n",
    "# Where to store the data\n",
    "target_folder = \"local_data/2025_Centrum/\"\n",
    "\n",
    "os.makedirs(target_folder, exist_ok=True)\n",
    "\n",
    "blob_list = container_client.list_blobs(name_starts_with=\"hackathon_vlm/onderhoud/2025_Centrum/KLEIN_ONDERHOUD_SDCENTRUM 20250328\")\n",
    "for blob in blob_list:\n",
    "    blob_bytes = blob_to_bytes(blob.name)\n",
    "    filename = os.path.join(target_folder, os.path.basename(blob.name))\n",
    "    with open(filename, \"wb\") as f:\n",
    "        f.write(blob_bytes)"
   ]
  },
  {
   "cell_type": "code",
   "execution_count": null,
   "id": "4",
   "metadata": {},
   "outputs": [],
   "source": [
    "# Load data into dataframe\n",
    "dataset_gdf = gpd.read_file(os.path.join(target_folder, \"KLEIN_ONDERHOUD_SDCENTRUM 20250328.shp\"))\n",
    "\n",
    "dataset_gdf.head(5)"
   ]
  },
  {
   "cell_type": "code",
   "execution_count": null,
   "id": "5",
   "metadata": {},
   "outputs": [],
   "source": [
    "# Curb damage categories\n",
    "dataset_gdf[\"SCHADEBEEL\"].unique()"
   ]
  },
  {
   "cell_type": "code",
   "execution_count": null,
   "id": "6",
   "metadata": {},
   "outputs": [],
   "source": [
    "# Info for a specific image\n",
    "image_name = \"18228489-9471-4aee-bc87-0a8605521007.jpeg\"\n",
    "\n",
    "dataset_gdf[dataset_gdf[\"FOTO_1\"] == image_name]"
   ]
  },
  {
   "cell_type": "markdown",
   "id": "7",
   "metadata": {},
   "source": [
    "## Example: show an image"
   ]
  },
  {
   "cell_type": "code",
   "execution_count": null,
   "id": "8",
   "metadata": {},
   "outputs": [],
   "source": [
    "images_path = \"hackathon_vlm/onderhoud/2025_Centrum/Foto's klein onderhoud/\"\n",
    "image_name = \"18228489-9471-4aee-bc87-0a8605521007.jpeg\"\n",
    "\n",
    "blob_bytes = blob_bytes = blob_to_bytes(os.path.join(images_path, image_name))\n",
    "\n",
    "img = bytes_to_cv2(blob_bytes)\n",
    "imshow(img)"
   ]
  },
  {
   "cell_type": "code",
   "execution_count": null,
   "id": "9",
   "metadata": {},
   "outputs": [],
   "source": [
    "# Store image locally\n",
    "target_folder = \"local_data/2025_Centrum/images/\"\n",
    "\n",
    "os.makedirs(target_folder, exist_ok=True)\n",
    "\n",
    "filename = os.path.join(target_folder, image_name)\n",
    "with open(filename, \"wb\") as f:\n",
    "    f.write(blob_bytes)"
   ]
  },
  {
   "cell_type": "code",
   "execution_count": null,
   "id": "10",
   "metadata": {},
   "outputs": [],
   "source": []
  }
 ],
 "metadata": {
  "kernelspec": {
   "display_name": "VLM-Hackathon",
   "language": "python",
   "name": "python3"
  },
  "language_info": {
   "codemirror_mode": {
    "name": "ipython",
    "version": 3
   },
   "file_extension": ".py",
   "mimetype": "text/x-python",
   "name": "python",
   "nbconvert_exporter": "python",
   "pygments_lexer": "ipython3",
   "version": "3.11.11"
  }
 },
 "nbformat": 4,
 "nbformat_minor": 5
}

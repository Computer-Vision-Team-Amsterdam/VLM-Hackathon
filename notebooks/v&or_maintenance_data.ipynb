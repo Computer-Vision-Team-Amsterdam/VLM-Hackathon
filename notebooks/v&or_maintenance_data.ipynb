{
 "cells": [
  {
   "cell_type": "markdown",
   "id": "0",
   "metadata": {},
   "source": [
    "# Exploring the V&OR maintenance data\n",
    "\n",
    "Data is located in the blobstore `experiments` under `hackathon_vlm/onderhoud/`."
   ]
  },
  {
   "cell_type": "code",
   "execution_count": 17,
   "id": "1",
   "metadata": {},
   "outputs": [],
   "source": [
    "import cv2\n",
    "import geopandas as gpd\n",
    "import numpy as np\n",
    "import os\n",
    "\n",
    "from azure.identity import  DefaultAzureCredential\n",
    "from azure.storage.blob import  BlobServiceClient\n",
    "\n",
    "\n",
    "def blob_to_bytes(blobname: str):\n",
    "    blob_client = container_client.get_blob_client(blobname)\n",
    "    return blob_client.download_blob().readall()\n",
    "\n",
    "def bytes_to_cv2(image_bytes):\n",
    "    '''Convert image bytes to CV2 image\n",
    "        Args:\n",
    "            image_bytes: image bytes\n",
    "        Returns:\n",
    "            CV2 image\n",
    "    '''\n",
    "    image_array = np.frombuffer(image_bytes, dtype=\"uint8\")\n",
    "    image = cv2.imdecode(image_array, cv2.IMREAD_UNCHANGED)\n",
    "    return image\n",
    "\n",
    "def imshow(img):\n",
    "    import IPython\n",
    "    _,ret = cv2.imencode('.jpg', img) \n",
    "    i = IPython.display.Image(data=ret)\n",
    "    IPython.display.display(i)\n",
    "\n",
    "\n",
    "ACCOUNT_URL = \"https://cvodataweupgwapeg4pyiw5e.blob.core.windows.net\"\n",
    "CONTAINER_NAME = \"experiments\"\n",
    "\n",
    "\n",
    "credential = DefaultAzureCredential()\n",
    "\n",
    "blob_service_client = BlobServiceClient(account_url=ACCOUNT_URL, credential=credential)\n",
    "container_client = blob_service_client.get_container_client(CONTAINER_NAME)"
   ]
  },
  {
   "cell_type": "markdown",
   "id": "2",
   "metadata": {},
   "source": [
    "## Example: load metadata"
   ]
  },
  {
   "cell_type": "code",
   "execution_count": 27,
   "id": "3",
   "metadata": {},
   "outputs": [],
   "source": [
    "# The dataset contaisn of multiple files, we need to download them to explore.\n",
    "dataset_path_prefix = \"hackathon_vlm/onderhoud/2025_Centrum/KLEIN_ONDERHOUD_SDCENTRUM 20250328\"\n",
    "\n",
    "# Where to store the data\n",
    "target_folder = \"local_data/2025_Centrum/\""
   ]
  },
  {
   "cell_type": "code",
   "execution_count": 28,
   "id": "38960348",
   "metadata": {},
   "outputs": [],
   "source": [
    "# Download the files\n",
    "\n",
    "os.makedirs(target_folder, exist_ok=True)\n",
    "\n",
    "blob_list = container_client.list_blobs(name_starts_with=\"hackathon_vlm/onderhoud/2025_Centrum/KLEIN_ONDERHOUD_SDCENTRUM 20250328\")\n",
    "for blob in blob_list:\n",
    "    blob_bytes = blob_to_bytes(blob.name)\n",
    "    filename = os.path.join(target_folder, os.path.basename(blob.name))\n",
    "    with open(filename, \"wb\") as f:\n",
    "        f.write(blob_bytes)"
   ]
  },
  {
   "cell_type": "code",
   "execution_count": 29,
   "id": "4",
   "metadata": {},
   "outputs": [
    {
     "data": {
      "text/html": [
       "<div>\n",
       "<style scoped>\n",
       "    .dataframe tbody tr th:only-of-type {\n",
       "        vertical-align: middle;\n",
       "    }\n",
       "\n",
       "    .dataframe tbody tr th {\n",
       "        vertical-align: top;\n",
       "    }\n",
       "\n",
       "    .dataframe thead th {\n",
       "        text-align: right;\n",
       "    }\n",
       "</style>\n",
       "<table border=\"1\" class=\"dataframe\">\n",
       "  <thead>\n",
       "    <tr style=\"text-align: right;\">\n",
       "      <th></th>\n",
       "      <th>ORIG_ID</th>\n",
       "      <th>GEOVISIA_I</th>\n",
       "      <th>GUID</th>\n",
       "      <th>ID</th>\n",
       "      <th>KO_ID</th>\n",
       "      <th>TYPE</th>\n",
       "      <th>TYPE_GEDET</th>\n",
       "      <th>TYPE_EXTRA</th>\n",
       "      <th>KLEUR</th>\n",
       "      <th>STADSDEEL</th>\n",
       "      <th>...</th>\n",
       "      <th>INSP_RONDE</th>\n",
       "      <th>SCHADEBEEL</th>\n",
       "      <th>HOEVEELHEI</th>\n",
       "      <th>EENHEID</th>\n",
       "      <th>OPM_INSPEC</th>\n",
       "      <th>FOTO_1</th>\n",
       "      <th>FOTO_2</th>\n",
       "      <th>PRIO</th>\n",
       "      <th>MELDING_OR</th>\n",
       "      <th>geometry</th>\n",
       "    </tr>\n",
       "  </thead>\n",
       "  <tbody>\n",
       "    <tr>\n",
       "      <th>0</th>\n",
       "      <td>1</td>\n",
       "      <td>5474AF66-54DE-4AB6-A849-3C986F36226C</td>\n",
       "      <td>{5065C5B0-B6F5-4968-91BF-2A6C499DB18B}</td>\n",
       "      <td>142747.0</td>\n",
       "      <td>Centrum-2025-1</td>\n",
       "      <td>Elementenverharding</td>\n",
       "      <td>Tegels</td>\n",
       "      <td>Betontegel</td>\n",
       "      <td>Grijs</td>\n",
       "      <td>Centrum</td>\n",
       "      <td>...</td>\n",
       "      <td>2025</td>\n",
       "      <td>plaatselijke verzakking</td>\n",
       "      <td>1</td>\n",
       "      <td>m2</td>\n",
       "      <td>m2</td>\n",
       "      <td>d8f399d7-0ef5-4ba5-af6e-f3288f233acc.jpg</td>\n",
       "      <td>None</td>\n",
       "      <td>hoog</td>\n",
       "      <td>False</td>\n",
       "      <td>POINT (122292.765 486164.166)</td>\n",
       "    </tr>\n",
       "    <tr>\n",
       "      <th>1</th>\n",
       "      <td>2</td>\n",
       "      <td>6DC9B87E-CC26-42DE-B9C1-082771661EBF</td>\n",
       "      <td>{D5A8AFB3-D50C-4BED-A064-0797499C52C2}</td>\n",
       "      <td>1293686.0</td>\n",
       "      <td>Centrum-2025-2</td>\n",
       "      <td>Asfaltverharding</td>\n",
       "      <td>Dichte deklagen</td>\n",
       "      <td>Steenmastiekasfalt</td>\n",
       "      <td>Grijs</td>\n",
       "      <td>Centrum</td>\n",
       "      <td>...</td>\n",
       "      <td>2025</td>\n",
       "      <td>randschade</td>\n",
       "      <td>3</td>\n",
       "      <td>meter</td>\n",
       "      <td>ophoging</td>\n",
       "      <td>8820247c-e928-44e6-812f-8769ee3bf250.jpeg</td>\n",
       "      <td>None</td>\n",
       "      <td>laag</td>\n",
       "      <td>False</td>\n",
       "      <td>POINT (122299.63 486165.929)</td>\n",
       "    </tr>\n",
       "    <tr>\n",
       "      <th>2</th>\n",
       "      <td>4</td>\n",
       "      <td>E92758FA-B05A-4C91-A039-9B7A1F609606</td>\n",
       "      <td>{C79EE942-F2F8-4043-A293-257BAB60E5F5}</td>\n",
       "      <td>187657.0</td>\n",
       "      <td>Centrum-2025-4</td>\n",
       "      <td>Elementenverharding</td>\n",
       "      <td>Betonstraatstenen</td>\n",
       "      <td>Betonsteen</td>\n",
       "      <td>Grijs</td>\n",
       "      <td>Centrum</td>\n",
       "      <td>...</td>\n",
       "      <td>2025</td>\n",
       "      <td>boomwortelschade</td>\n",
       "      <td>1</td>\n",
       "      <td>m2</td>\n",
       "      <td>None</td>\n",
       "      <td>18228489-9471-4aee-bc87-0a8605521007.jpeg</td>\n",
       "      <td>None</td>\n",
       "      <td>hoog</td>\n",
       "      <td>False</td>\n",
       "      <td>POINT (122256.084 486170.879)</td>\n",
       "    </tr>\n",
       "    <tr>\n",
       "      <th>3</th>\n",
       "      <td>5</td>\n",
       "      <td>B35B0070-EC2D-4A16-8F01-105658CDD0A6</td>\n",
       "      <td>{C79EE942-F2F8-4043-A293-257BAB60E5F5}</td>\n",
       "      <td>187657.0</td>\n",
       "      <td>Centrum-2025-5</td>\n",
       "      <td>Elementenverharding</td>\n",
       "      <td>Betonstraatstenen</td>\n",
       "      <td>Betonsteen</td>\n",
       "      <td>Grijs</td>\n",
       "      <td>Centrum</td>\n",
       "      <td>...</td>\n",
       "      <td>2025</td>\n",
       "      <td>plaatselijke verzakking</td>\n",
       "      <td>1</td>\n",
       "      <td>m2</td>\n",
       "      <td>None</td>\n",
       "      <td>22ae871c-9eac-4ae1-bea4-f10c647e92b2.jpeg</td>\n",
       "      <td>None</td>\n",
       "      <td>hoog</td>\n",
       "      <td>False</td>\n",
       "      <td>POINT (122171.062 486143.986)</td>\n",
       "    </tr>\n",
       "    <tr>\n",
       "      <th>4</th>\n",
       "      <td>6</td>\n",
       "      <td>ED057E8B-1608-4D0D-A091-D1702BAB6445</td>\n",
       "      <td>{16E0FB1C-82E7-43C4-8B8B-D6040D81D7F7}</td>\n",
       "      <td>1293702.0</td>\n",
       "      <td>Centrum-2025-6</td>\n",
       "      <td>Asfaltverharding</td>\n",
       "      <td>Dichte deklagen</td>\n",
       "      <td>Steenmastiekasfalt</td>\n",
       "      <td>Grijs</td>\n",
       "      <td>Centrum</td>\n",
       "      <td>...</td>\n",
       "      <td>2025</td>\n",
       "      <td>dwarsscheur</td>\n",
       "      <td>3</td>\n",
       "      <td>meter</td>\n",
       "      <td>None</td>\n",
       "      <td>fb7ce06d-16e9-4ba0-a75d-a0b9e17b2bb6.jpeg</td>\n",
       "      <td>None</td>\n",
       "      <td>hoog</td>\n",
       "      <td>False</td>\n",
       "      <td>POINT (122267.499 486262.53)</td>\n",
       "    </tr>\n",
       "  </tbody>\n",
       "</table>\n",
       "<p>5 rows × 27 columns</p>\n",
       "</div>"
      ],
      "text/plain": [
       "   ORIG_ID                            GEOVISIA_I  \\\n",
       "0        1  5474AF66-54DE-4AB6-A849-3C986F36226C   \n",
       "1        2  6DC9B87E-CC26-42DE-B9C1-082771661EBF   \n",
       "2        4  E92758FA-B05A-4C91-A039-9B7A1F609606   \n",
       "3        5  B35B0070-EC2D-4A16-8F01-105658CDD0A6   \n",
       "4        6  ED057E8B-1608-4D0D-A091-D1702BAB6445   \n",
       "\n",
       "                                     GUID         ID           KO_ID  \\\n",
       "0  {5065C5B0-B6F5-4968-91BF-2A6C499DB18B}   142747.0  Centrum-2025-1   \n",
       "1  {D5A8AFB3-D50C-4BED-A064-0797499C52C2}  1293686.0  Centrum-2025-2   \n",
       "2  {C79EE942-F2F8-4043-A293-257BAB60E5F5}   187657.0  Centrum-2025-4   \n",
       "3  {C79EE942-F2F8-4043-A293-257BAB60E5F5}   187657.0  Centrum-2025-5   \n",
       "4  {16E0FB1C-82E7-43C4-8B8B-D6040D81D7F7}  1293702.0  Centrum-2025-6   \n",
       "\n",
       "                  TYPE         TYPE_GEDET          TYPE_EXTRA  KLEUR  \\\n",
       "0  Elementenverharding             Tegels          Betontegel  Grijs   \n",
       "1     Asfaltverharding    Dichte deklagen  Steenmastiekasfalt  Grijs   \n",
       "2  Elementenverharding  Betonstraatstenen          Betonsteen  Grijs   \n",
       "3  Elementenverharding  Betonstraatstenen          Betonsteen  Grijs   \n",
       "4     Asfaltverharding    Dichte deklagen  Steenmastiekasfalt  Grijs   \n",
       "\n",
       "  STADSDEEL  ... INSP_RONDE               SCHADEBEEL HOEVEELHEI EENHEID  \\\n",
       "0   Centrum  ...       2025  plaatselijke verzakking          1      m2   \n",
       "1   Centrum  ...       2025               randschade          3   meter   \n",
       "2   Centrum  ...       2025         boomwortelschade          1      m2   \n",
       "3   Centrum  ...       2025  plaatselijke verzakking          1      m2   \n",
       "4   Centrum  ...       2025              dwarsscheur          3   meter   \n",
       "\n",
       "  OPM_INSPEC                                     FOTO_1 FOTO_2  PRIO  \\\n",
       "0         m2   d8f399d7-0ef5-4ba5-af6e-f3288f233acc.jpg   None  hoog   \n",
       "1   ophoging  8820247c-e928-44e6-812f-8769ee3bf250.jpeg   None  laag   \n",
       "2       None  18228489-9471-4aee-bc87-0a8605521007.jpeg   None  hoog   \n",
       "3       None  22ae871c-9eac-4ae1-bea4-f10c647e92b2.jpeg   None  hoog   \n",
       "4       None  fb7ce06d-16e9-4ba0-a75d-a0b9e17b2bb6.jpeg   None  hoog   \n",
       "\n",
       "  MELDING_OR                       geometry  \n",
       "0      False  POINT (122292.765 486164.166)  \n",
       "1      False   POINT (122299.63 486165.929)  \n",
       "2      False  POINT (122256.084 486170.879)  \n",
       "3      False  POINT (122171.062 486143.986)  \n",
       "4      False   POINT (122267.499 486262.53)  \n",
       "\n",
       "[5 rows x 27 columns]"
      ]
     },
     "execution_count": 29,
     "metadata": {},
     "output_type": "execute_result"
    }
   ],
   "source": [
    "# Load data into dataframe\n",
    "dataset_gdf = gpd.read_file(os.path.join(target_folder, \"KLEIN_ONDERHOUD_SDCENTRUM 20250328.shp\"))\n",
    "\n",
    "dataset_gdf.head(5)"
   ]
  },
  {
   "cell_type": "code",
   "execution_count": 30,
   "id": "ab9304b5",
   "metadata": {},
   "outputs": [
    {
     "name": "stdout",
     "output_type": "stream",
     "text": [
      "Index(['ORIG_ID', 'GEOVISIA_I', 'GUID', 'ID', 'KO_ID', 'TYPE', 'TYPE_GEDET',\n",
      "       'TYPE_EXTRA', 'KLEUR', 'STADSDEEL', 'OPENBARE_R', 'BUURT', 'WIJK',\n",
      "       'BEHEERDER', 'INSP_DATUM', 'INSPECTEUR', 'INSP_BEDRI', 'INSP_RONDE',\n",
      "       'SCHADEBEEL', 'HOEVEELHEI', 'EENHEID', 'OPM_INSPEC', 'FOTO_1', 'FOTO_2',\n",
      "       'PRIO', 'MELDING_OR', 'geometry'],\n",
      "      dtype='object')\n"
     ]
    }
   ],
   "source": [
    "# Print columns of the dataframe\n",
    "print(dataset_gdf.columns)"
   ]
  },
  {
   "cell_type": "code",
   "execution_count": 31,
   "id": "5",
   "metadata": {},
   "outputs": [
    {
     "data": {
      "text/plain": [
       "array(['plaatselijke verzakking', 'randschade', 'boomwortelschade',\n",
       "       'dwarsscheur', 'gebroken elementen', 'niet gevuld boorgat', 'gat',\n",
       "       'plaatselijke ophoging', 'langsscheur',\n",
       "       'asfaltsleuf elementen (HOOR)',\n",
       "       'aansluiting inspectieput vierkant', 'aansluiting kolk',\n",
       "       'rafeling', 'kantopsluiting', 'losliggende elementen',\n",
       "       'bezweken plek', 'voegwijdte elementen', 'ontbrekende elementen'],\n",
       "      dtype=object)"
      ]
     },
     "execution_count": 31,
     "metadata": {},
     "output_type": "execute_result"
    }
   ],
   "source": [
    "# Curb damage categories\n",
    "dataset_gdf[\"SCHADEBEEL\"].unique()"
   ]
  },
  {
   "cell_type": "code",
   "execution_count": 32,
   "id": "ee0413fb",
   "metadata": {},
   "outputs": [
    {
     "data": {
      "text/plain": [
       "array(['Elementenverharding', 'Asfaltverharding', 'Betonverharding'],\n",
       "      dtype=object)"
      ]
     },
     "execution_count": 32,
     "metadata": {},
     "output_type": "execute_result"
    }
   ],
   "source": [
    "dataset_gdf[\"TYPE\"].unique()"
   ]
  },
  {
   "cell_type": "code",
   "execution_count": 37,
   "id": "6",
   "metadata": {},
   "outputs": [
    {
     "name": "stdout",
     "output_type": "stream",
     "text": [
      "ontbrekende elementen\n"
     ]
    },
    {
     "data": {
      "text/plain": [
       "array(['da812701-a1e3-4448-b5b1-0990c27441c0.jpeg'], dtype=object)"
      ]
     },
     "execution_count": 37,
     "metadata": {},
     "output_type": "execute_result"
    }
   ],
   "source": [
    "# Info for a specific image\n",
    "image_name = \"da812701-a1e3-4448-b5b1-0990c27441c0.jpeg\"\n",
    "\n",
    "# print schadebeel of the image\n",
    "print(dataset_gdf[dataset_gdf[\"FOTO_1\"] == image_name][\"SCHADEBEEL\"].values[0])\n",
    "\n",
    "# print image names that have \"SCHADEBEEL\" == \"ontbrekende elementen\"\n",
    "dataset_gdf[dataset_gdf[\"SCHADEBEEL\"] == \"ontbrekende elementen\"][\"FOTO_1\"].values\n",
    "\n"
   ]
  },
  {
   "cell_type": "markdown",
   "id": "7",
   "metadata": {},
   "source": [
    "## Example: show an image"
   ]
  },
  {
   "cell_type": "code",
   "execution_count": null,
   "id": "8",
   "metadata": {},
   "outputs": [],
   "source": [
    "images_path = \"hackathon_vlm/onderhoud/2025_Centrum/Foto's klein onderhoud/\"\n",
    "\n",
    "blob_bytes = blob_bytes = blob_to_bytes(os.path.join(images_path, image_name))\n",
    "\n",
    "img = bytes_to_cv2(blob_bytes)\n",
    "imshow(img)"
   ]
  },
  {
   "cell_type": "code",
   "execution_count": 39,
   "id": "9",
   "metadata": {},
   "outputs": [],
   "source": [
    "# Store image locally\n",
    "target_folder = \"local_data/2025_Centrum/images/\"\n",
    "\n",
    "os.makedirs(target_folder, exist_ok=True)\n",
    "\n",
    "filename = os.path.join(target_folder, image_name)\n",
    "with open(filename, \"wb\") as f:\n",
    "    f.write(blob_bytes)"
   ]
  },
  {
   "cell_type": "code",
   "execution_count": null,
   "id": "10",
   "metadata": {},
   "outputs": [],
   "source": []
  }
 ],
 "metadata": {
  "kernelspec": {
   "display_name": "VLM-Hackathon",
   "language": "python",
   "name": "python3"
  },
  "language_info": {
   "codemirror_mode": {
    "name": "ipython",
    "version": 3
   },
   "file_extension": ".py",
   "mimetype": "text/x-python",
   "name": "python",
   "nbconvert_exporter": "python",
   "pygments_lexer": "ipython3",
   "version": "3.11.11"
  }
 },
 "nbformat": 4,
 "nbformat_minor": 5
}
